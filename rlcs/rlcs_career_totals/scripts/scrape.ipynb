{
 "cells": [
  {
   "cell_type": "code",
   "execution_count": 92,
   "metadata": {},
   "outputs": [],
   "source": [
    "import pandas as pd\n",
    "import time\n",
    "from bs4 import BeautifulSoup\n",
    "\n",
    "soup = BeautifulSoup(open('source.html', 'r'), 'lxml')"
   ]
  },
  {
   "cell_type": "code",
   "execution_count": 93,
   "metadata": {},
   "outputs": [],
   "source": [
    "\n",
    "tds = []\n",
    "\n",
    "for i in range(730):\n",
    "    tr = soup.find('tr', attrs={'item-index':i})\n",
    "    for td in tr.find_all('td'):\n",
    "        if td.text:\n",
    "            tds.append(td.text)\n",
    "            \n",
    "    for img in tr.find_all('img'):\n",
    "        img_name = img.get('src').split('/')[-1]\n",
    "        flag_name = img_name.split('.')[0]\n",
    "        tds.append(flag_name)\n",
    "        "
   ]
  },
  {
   "cell_type": "code",
   "execution_count": 94,
   "metadata": {},
   "outputs": [],
   "source": [
    "def chunks(lst, n):\n",
    "    for i in range(0, len(lst), n):\n",
    "        yield lst[i:i+n]"
   ]
  },
  {
   "cell_type": "code",
   "execution_count": 95,
   "metadata": {},
   "outputs": [],
   "source": [
    "records = list(chunks(tds, 10))"
   ]
  },
  {
   "cell_type": "code",
   "execution_count": 96,
   "metadata": {},
   "outputs": [],
   "source": [
    "main_col_header = [\n",
    "                       'Player', \n",
    "                       'GP',\n",
    "                       'W%',\n",
    "                       'SCPG', \n",
    "                       'GPG', \n",
    "                       'APG', \n",
    "                       'SAPG', \n",
    "                       'SHPG', \n",
    "                       'Rating',\n",
    "                       'Country'\n",
    "                                    ] "
   ]
  },
  {
   "cell_type": "code",
   "execution_count": 97,
   "metadata": {},
   "outputs": [],
   "source": [
    "main_df = pd.DataFrame(records, columns=main_col_header)\n",
    "main_df.applymap(str.strip)\n",
    "\n",
    "main_df.to_csv('main_rlcs_stats.csv', index=False)"
   ]
  },
  {
   "cell_type": "code",
   "execution_count": null,
   "metadata": {},
   "outputs": [],
   "source": []
  }
 ],
 "metadata": {
  "kernelspec": {
   "display_name": "Python 3",
   "language": "python",
   "name": "python3"
  },
  "language_info": {
   "codemirror_mode": {
    "name": "ipython",
    "version": 3
   },
   "file_extension": ".py",
   "mimetype": "text/x-python",
   "name": "python",
   "nbconvert_exporter": "python",
   "pygments_lexer": "ipython3",
   "version": "3.7.6"
  }
 },
 "nbformat": 4,
 "nbformat_minor": 4
}
